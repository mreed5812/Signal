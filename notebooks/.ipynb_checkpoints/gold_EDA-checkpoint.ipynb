{
 "cells": [
  {
   "cell_type": "code",
   "execution_count": 5,
   "id": "d9c30a0f-a87f-4d24-8bd4-11867ef44000",
   "metadata": {},
   "outputs": [
    {
     "name": "stdout",
     "output_type": "stream",
     "text": [
      "    timestamp metal currency  exchange           symbol  prev_close_price   \n",
      "0  1735863410   XAU      USD  FOREXCOM  FOREXCOM:XAUUSD           2657.99  \\\n",
      "\n",
      "   open_price  low_price  high_price   open_time  ...  price_gram_24k   \n",
      "0     2657.99   2657.375      2661.1  1735862400  ...         85.5549  \\\n",
      "\n",
      "   price_gram_22k  price_gram_21k  price_gram_20k  price_gram_18k   \n",
      "0         78.4253         74.8605         71.2958         64.1662  \\\n",
      "\n",
      "   price_gram_16k  price_gram_14k  price_gram_10k        pull_datetime   \n",
      "0         57.0366          49.907         35.6479  2025-01-02 18:16:52  \\\n",
      "\n",
      "          rounded_hour  \n",
      "0  2025-01-02 18:00:00  \n",
      "\n",
      "[1 rows x 25 columns]\n"
     ]
    }
   ],
   "source": [
    "import requests\n",
    "import pandas as pd\n",
    "from datetime import datetime, timedelta\n",
    "\n",
    "def make_gapi_request():\n",
    "    api_key = \"goldapi-eooasm506kn11-io\"\n",
    "    symbol = \"XAU\"\n",
    "    curr = \"USD\"\n",
    "    date = \"\"\n",
    "\n",
    "    url = f\"https://www.goldapi.io/api/{symbol}/{curr}{date}\"\n",
    "    \n",
    "    headers = {\n",
    "        \"x-access-token\": api_key,\n",
    "        \"Content-Type\": \"application/json\"\n",
    "    }\n",
    "    \n",
    "    try:\n",
    "        response = requests.get(url, headers=headers)\n",
    "        response.raise_for_status()\n",
    "\n",
    "        # Parse the JSON response\n",
    "        data = response.json()\n",
    "\n",
    "        # Add the current datetime to the data\n",
    "        current_time = datetime.now()\n",
    "        data['pulled_at'] = current_time.strftime(\"%Y-%m-%d %H:%M:%S\")\n",
    "\n",
    "        # Round the current time to the nearest hour\n",
    "        rounded_time = current_time.replace(minute=0, second=0, microsecond=0)\n",
    "        if current_time.minute >= 30:\n",
    "            rounded_time += timedelta(hours=1)\n",
    "        data['rounded_hour'] = rounded_time.strftime(\"%Y-%m-%d %H:%M:%S\")\n",
    "\n",
    "        # Convert the JSON response to a DataFrame\n",
    "        df = pd.DataFrame([data])\n",
    "\n",
    "        # Return or display the DataFrame\n",
    "        print(df)\n",
    "        return df\n",
    "    except requests.exceptions.RequestException as e:\n",
    "        print(\"Error:\", str(e))\n",
    "        return None\n",
    "\n",
    "# Call the function\n",
    "df = make_gapi_request()\n"
   ]
  },
  {
   "cell_type": "code",
   "execution_count": 7,
   "id": "115e0c7b-9ee0-4489-9877-0d7c2815063c",
   "metadata": {},
   "outputs": [
    {
     "data": {
      "text/plain": [
       "Index(['timestamp', 'metal', 'currency', 'exchange', 'symbol',\n",
       "       'prev_close_price', 'open_price', 'low_price', 'high_price',\n",
       "       'open_time', 'price', 'ch', 'chp', 'ask', 'bid', 'price_gram_24k',\n",
       "       'price_gram_22k', 'price_gram_21k', 'price_gram_20k', 'price_gram_18k',\n",
       "       'price_gram_16k', 'price_gram_14k', 'price_gram_10k', 'pull_datetime',\n",
       "       'rounded_hour'],\n",
       "      dtype='object')"
      ]
     },
     "execution_count": 7,
     "metadata": {},
     "output_type": "execute_result"
    }
   ],
   "source": [
    "df.columns"
   ]
  }
 ],
 "metadata": {
  "kernelspec": {
   "display_name": "Python 3 (ipykernel)",
   "language": "python",
   "name": "python3"
  },
  "language_info": {
   "codemirror_mode": {
    "name": "ipython",
    "version": 3
   },
   "file_extension": ".py",
   "mimetype": "text/x-python",
   "name": "python",
   "nbconvert_exporter": "python",
   "pygments_lexer": "ipython3",
   "version": "3.9.6"
  }
 },
 "nbformat": 4,
 "nbformat_minor": 5
}
